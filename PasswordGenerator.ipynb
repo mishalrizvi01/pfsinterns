{
  "nbformat": 4,
  "nbformat_minor": 0,
  "metadata": {
    "colab": {
      "provenance": []
    },
    "kernelspec": {
      "name": "python3",
      "display_name": "Python 3"
    },
    "language_info": {
      "name": "python"
    }
  },
  "cells": [
    {
      "cell_type": "code",
      "execution_count": 4,
      "metadata": {
        "colab": {
          "base_uri": "https://localhost:8080/"
        },
        "id": "2_xmcy1jCg-P",
        "outputId": "06016626-9301-4558-f5be-e971af709a96"
      },
      "outputs": [
        {
          "output_type": "stream",
          "name": "stdout",
          "text": [
            "Welcome to the Password Generator Tool!\n",
            "Enter the desired password length: 12\n",
            "Include uppercase letters? (y/n): y\n",
            "Include digits? (y/n): y\n",
            "Include special characters? (y/n): y\n",
            "Generated Password: ;`/Op|#Za?34\n"
          ]
        }
      ],
      "source": [
        "import random\n",
        "import string\n",
        "\n",
        "def generate_password(length, use_uppercase, use_digits, use_special):\n",
        "    character_set = string.ascii_lowercase\n",
        "    if use_uppercase:\n",
        "        character_set += string.ascii_uppercase\n",
        "    if use_digits:\n",
        "        character_set += string.digits\n",
        "    if use_special:\n",
        "        character_set += string.punctuation\n",
        "\n",
        "    password = ''.join(random.choice(character_set) for _ in range(length))\n",
        "    return password\n",
        "\n",
        "def main():\n",
        "    print(\"Welcome to the Password Generator Tool!\")\n",
        "\n",
        "    # Asking the user for input\n",
        "    length = int(input(\"Enter the desired password length: \"))\n",
        "    use_uppercase = input(\"Include uppercase letters? (y/n): \").lower() == 'y'\n",
        "    use_digits = input(\"Include digits? (y/n): \").lower() == 'y'\n",
        "    use_special = input(\"Include special characters? (y/n): \").lower() == 'y'\n",
        "\n",
        "    # Generate the password\n",
        "    password = generate_password(length, use_uppercase, use_digits, use_special)\n",
        "\n",
        "    # Output the generated password\n",
        "    print(f\"Generated Password: {password}\")\n",
        "\n",
        "if __name__ == \"__main__\":\n",
        "    main()\n",
        "\n"
      ]
    }
  ]
}