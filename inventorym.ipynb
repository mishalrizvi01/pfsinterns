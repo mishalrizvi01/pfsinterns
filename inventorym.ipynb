{
  "nbformat": 4,
  "nbformat_minor": 0,
  "metadata": {
    "colab": {
      "provenance": []
    },
    "kernelspec": {
      "name": "python3",
      "display_name": "Python 3"
    },
    "language_info": {
      "name": "python"
    }
  },
  "cells": [
    {
      "cell_type": "code",
      "execution_count": 2,
      "metadata": {
        "colab": {
          "base_uri": "https://localhost:8080/"
        },
        "id": "zbWBCFYEGVMg",
        "outputId": "09f007fa-4106-4864-9de4-a656b0d0dc86"
      },
      "outputs": [
        {
          "output_type": "stream",
          "name": "stdout",
          "text": [
            "Tablet: 80 units in stock\n",
            "Keyboard: 150 units in stock\n",
            "Tablet: 20 units sold on 2024-08-25 15:37:47\n"
          ]
        }
      ],
      "source": [
        "import sqlite3\n",
        "from datetime import datetime\n",
        "\n",
        "connection = sqlite3.connect('inventory_db.db')\n",
        "db_cursor = connection.cursor()\n",
        "\n",
        "db_cursor.execute('''CREATE TABLE IF NOT EXISTS Products (\n",
        "                        product_id INTEGER PRIMARY KEY,\n",
        "                        name TEXT NOT NULL,\n",
        "                        price REAL NOT NULL,\n",
        "                        description TEXT)''')\n",
        "\n",
        "db_cursor.execute('''CREATE TABLE IF NOT EXISTS Inventory (\n",
        "                        inventory_id INTEGER PRIMARY KEY,\n",
        "                        product_id INTEGER,\n",
        "                        quantity INTEGER NOT NULL,\n",
        "                        FOREIGN KEY(product_id) REFERENCES Products(product_id))''')\n",
        "\n",
        "db_cursor.execute('''CREATE TABLE IF NOT EXISTS Sales (\n",
        "                        sale_id INTEGER PRIMARY KEY,\n",
        "                        product_id INTEGER,\n",
        "                        sold_quantity INTEGER NOT NULL,\n",
        "                        sale_date TEXT NOT NULL,\n",
        "                        FOREIGN KEY(product_id) REFERENCES Products(product_id))''')\n",
        "\n",
        "connection.commit()\n",
        "\n",
        "def add_product(name, price, description):\n",
        "    db_cursor.execute('''INSERT INTO Products (name, price, description)\n",
        "                         VALUES (?, ?, ?)''', (name, price, description))\n",
        "    connection.commit()\n",
        "\n",
        "def update_product(product_id, name=None, price=None, description=None):\n",
        "    if name:\n",
        "        db_cursor.execute('''UPDATE Products SET name = ? WHERE product_id = ?''', (name, product_id))\n",
        "    if price:\n",
        "        db_cursor.execute('''UPDATE Products SET price = ? WHERE product_id = ?''', (price, product_id))\n",
        "    if description:\n",
        "        db_cursor.execute('''UPDATE Products SET description = ? WHERE product_id = ?''', (description, product_id))\n",
        "    connection.commit()\n",
        "\n",
        "def delete_product(product_id):\n",
        "    db_cursor.execute('''DELETE FROM Products WHERE product_id = ?''', (product_id,))\n",
        "    connection.commit()\n",
        "\n",
        "def add_inventory(product_id, quantity):\n",
        "    db_cursor.execute('''INSERT INTO Inventory (product_id, quantity)\n",
        "                         VALUES (?, ?)''', (product_id, quantity))\n",
        "    connection.commit()\n",
        "\n",
        "def update_inventory(inventory_id, quantity):\n",
        "    db_cursor.execute('''UPDATE Inventory SET quantity = ? WHERE inventory_id = ?''', (quantity, inventory_id))\n",
        "    connection.commit()\n",
        "\n",
        "def delete_inventory(inventory_id):\n",
        "    db_cursor.execute('''DELETE FROM Inventory WHERE inventory_id = ?''', (inventory_id,))\n",
        "    connection.commit()\n",
        "\n",
        "def record_sale(product_id, sold_quantity):\n",
        "    sale_date = datetime.now().strftime('%Y-%m-%d %H:%M:%S')\n",
        "    db_cursor.execute('''INSERT INTO Sales (product_id, sold_quantity, sale_date)\n",
        "                         VALUES (?, ?, ?)''', (product_id, sold_quantity, sale_date))\n",
        "    db_cursor.execute('''UPDATE Inventory SET quantity = quantity - ? WHERE product_id = ?''',\n",
        "                      (sold_quantity, product_id))\n",
        "    connection.commit()\n",
        "\n",
        "def generate_inventory_report():\n",
        "    db_cursor.execute('''SELECT Products.name, Inventory.quantity\n",
        "                         FROM Products\n",
        "                         INNER JOIN Inventory ON Products.product_id = Inventory.product_id''')\n",
        "    report = db_cursor.fetchall()\n",
        "    for row in report:\n",
        "        print(f'{row[0]}: {row[1]} units in stock')\n",
        "\n",
        "def generate_sales_report():\n",
        "    db_cursor.execute('''SELECT Products.name, Sales.sold_quantity, Sales.sale_date\n",
        "                         FROM Products\n",
        "                         INNER JOIN Sales ON Products.product_id = Sales.product_id''')\n",
        "    report = db_cursor.fetchall()\n",
        "    for row in report:\n",
        "        print(f'{row[0]}: {row[1]} units sold on {row[2]}')\n",
        "\n",
        "add_product(\"Tablet\", 300.0, \"10-inch tablet\")\n",
        "add_product(\"Keyboard\", 45.0, \"Mechanical keyboard\")\n",
        "\n",
        "update_product(1, price=280.0)\n",
        "\n",
        "add_inventory(1, 100)\n",
        "add_inventory(2, 150)\n",
        "\n",
        "record_sale(1, 20)\n",
        "\n",
        "generate_inventory_report()\n",
        "generate_sales_report()\n"
      ]
    }
  ]
}